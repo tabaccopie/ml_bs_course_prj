{
 "cells": [
  {
   "cell_type": "code",
   "execution_count": 1,
   "metadata": {},
   "outputs": [],
   "source": [
    "import pandas as  pd\n",
    "\n",
    "import dill\n",
    "\n",
    "from sklearn.model_selection import train_test_split\n",
    "from sklearn.linear_model import LinearRegression\n",
    "from sklearn.preprocessing import StandardScaler\n",
    "from sklearn.pipeline import Pipeline, FeatureUnion\n",
    "from sklearn.base import BaseEstimator, TransformerMixin\n",
    "from sklearn.metrics import roc_auc_score, r2_score, mean_absolute_error"
   ]
  },
  {
   "cell_type": "code",
   "execution_count": 2,
   "metadata": {},
   "outputs": [],
   "source": [
    "# подготовим данные\n",
    "df=pd.read_csv(\"../data/Placement_Data_Full_Class.csv\")\n",
    "df.drop(['sl_no','salary'], axis=1, inplace=True)\n",
    "df['status'].replace(('Placed', 'Not Placed'), (1, 0), inplace=True)\n",
    "\n",
    "features = ['ssc_p', 'hsc_p', 'degree_p']\n",
    "target = ['status']\n",
    "\n",
    "X_train, X_test, y_train, y_test = train_test_split(df[features], df[target], test_size=0.33, random_state=10)\n",
    "#save test\n",
    "X_test.to_csv(\"../data/X_test.csv\", index=None)\n",
    "y_test.to_csv(\"../data/y_test.csv\", index=None)\n",
    "#save train\n",
    "X_train.to_csv(\"../data/X_train.csv\", index=None)\n",
    "y_train.to_csv(\"../data/y_train.csv\", index=None)"
   ]
  },
  {
   "cell_type": "code",
   "execution_count": 3,
   "metadata": {},
   "outputs": [],
   "source": [
    "#соберем наш простой pipeline\n",
    " \n",
    "class NumberSelector(BaseEstimator, TransformerMixin):\n",
    "    \"\"\"\n",
    "    Transformer to select a single column from the data frame to perform additional transformations on\n",
    "    Use on numeric columns in the data\n",
    "    \"\"\"\n",
    "    def __init__(self, key):\n",
    "        self.key = key\n",
    "\n",
    "    def fit(self, X, y=None):\n",
    "        return self\n",
    "\n",
    "    def transform(self, X):\n",
    "        return X[[self.key]]\n",
    "    \n",
    "  \n",
    "continuous_columns = features\n",
    "final_transformers = list()\n",
    "    \n",
    "for cont_col in continuous_columns:\n",
    "    cont_transformer = Pipeline([\n",
    "                ('selector', NumberSelector(key=cont_col)),\n",
    "                ('scaler', StandardScaler())\n",
    "            ])\n",
    "    final_transformers.append((cont_col, cont_transformer))\n",
    "    \n",
    "feats = FeatureUnion(final_transformers)\n",
    "\n",
    "feature_processing = Pipeline([('feats', feats)])"
   ]
  },
  {
   "cell_type": "code",
   "execution_count": 4,
   "metadata": {},
   "outputs": [
    {
     "data": {
      "text/plain": [
       "Pipeline(steps=[('features',\n",
       "                 FeatureUnion(transformer_list=[('ssc_p',\n",
       "                                                 Pipeline(steps=[('selector',\n",
       "                                                                  NumberSelector(key='ssc_p')),\n",
       "                                                                 ('scaler',\n",
       "                                                                  StandardScaler())])),\n",
       "                                                ('hsc_p',\n",
       "                                                 Pipeline(steps=[('selector',\n",
       "                                                                  NumberSelector(key='hsc_p')),\n",
       "                                                                 ('scaler',\n",
       "                                                                  StandardScaler())])),\n",
       "                                                ('degree_p',\n",
       "                                                 Pipeline(steps=[('selector',\n",
       "                                                                  NumberSelector(key='degree_p')),\n",
       "                                                                 ('scaler',\n",
       "                                                                  StandardScaler())]))])),\n",
       "                ('classifier', LinearRegression())])"
      ]
     },
     "execution_count": 4,
     "metadata": {},
     "output_type": "execute_result"
    }
   ],
   "source": [
    "model = Pipeline([\n",
    "    ('features',feats),\n",
    "    ('classifier', LinearRegression()),\n",
    "])\n",
    "\n",
    "#обучим наш пайплайн\n",
    "model.fit(X_train, y_train)"
   ]
  },
  {
   "cell_type": "code",
   "execution_count": 12,
   "metadata": {},
   "outputs": [
    {
     "name": "stdout",
     "output_type": "stream",
     "text": [
      "0.9008695652173913\n",
      "0.4273160365841553\n",
      "0.30305649962682124\n"
     ]
    }
   ],
   "source": [
    "predictions =  model.predict(X_test)\n",
    "print(roc_auc_score(y_test,predictions))\n",
    "print(r2_score(y_pred=predictions, y_true=y_test))\n",
    "print(mean_absolute_error(y_pred=predictions, y_true=y_test))"
   ]
  },
  {
   "cell_type": "code",
   "execution_count": 6,
   "metadata": {},
   "outputs": [],
   "source": [
    "with open(\"../app/models/pipeline.dill\", \"wb\") as f:\n",
    "    dill.dump(model, f)"
   ]
  }
 ],
 "metadata": {
  "interpreter": {
   "hash": "b57d97ef72cd171dad499abe39a4b9d69dc64e8882a29bc22bb17762068148d7"
  },
  "kernelspec": {
   "display_name": "Python 3.9.7 64-bit ('MyDSenv': conda)",
   "language": "python",
   "name": "python3"
  },
  "language_info": {
   "codemirror_mode": {
    "name": "ipython",
    "version": 3
   },
   "file_extension": ".py",
   "mimetype": "text/x-python",
   "name": "python",
   "nbconvert_exporter": "python",
   "pygments_lexer": "ipython3",
   "version": "3.9.7"
  },
  "orig_nbformat": 4
 },
 "nbformat": 4,
 "nbformat_minor": 2
}
